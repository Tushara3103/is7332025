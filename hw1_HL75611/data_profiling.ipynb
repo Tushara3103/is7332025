{
 "cells": [
  {
   "cell_type": "code",
   "execution_count": 2,
   "id": "9621689d-0ccc-4bb0-910d-d502f164cbee",
   "metadata": {},
   "outputs": [
    {
     "name": "stdout",
     "output_type": "stream",
     "text": [
      "Requirement already satisfied: sweetviz in c:\\users\\madhan\\anaconda3\\lib\\site-packages (2.3.1)\n",
      "Requirement already satisfied: pandas!=1.0.0,!=1.0.1,!=1.0.2,>=0.25.3 in c:\\users\\madhan\\anaconda3\\lib\\site-packages (from sweetviz) (2.2.3)\n",
      "Requirement already satisfied: numpy>=1.16.0 in c:\\users\\madhan\\anaconda3\\lib\\site-packages (from sweetviz) (1.26.4)\n",
      "Requirement already satisfied: matplotlib>=3.1.3 in c:\\users\\madhan\\anaconda3\\lib\\site-packages (from sweetviz) (3.9.2)\n",
      "Requirement already satisfied: tqdm>=4.43.0 in c:\\users\\madhan\\anaconda3\\lib\\site-packages (from sweetviz) (4.66.5)\n",
      "Requirement already satisfied: scipy>=1.3.2 in c:\\users\\madhan\\anaconda3\\lib\\site-packages (from sweetviz) (1.13.1)\n",
      "Requirement already satisfied: jinja2>=2.11.1 in c:\\users\\madhan\\anaconda3\\lib\\site-packages (from sweetviz) (3.1.4)\n",
      "Requirement already satisfied: importlib-resources>=1.2.0 in c:\\users\\madhan\\anaconda3\\lib\\site-packages (from sweetviz) (6.5.2)\n",
      "Requirement already satisfied: MarkupSafe>=2.0 in c:\\users\\madhan\\anaconda3\\lib\\site-packages (from jinja2>=2.11.1->sweetviz) (2.1.3)\n",
      "Requirement already satisfied: contourpy>=1.0.1 in c:\\users\\madhan\\anaconda3\\lib\\site-packages (from matplotlib>=3.1.3->sweetviz) (1.2.0)\n",
      "Requirement already satisfied: cycler>=0.10 in c:\\users\\madhan\\anaconda3\\lib\\site-packages (from matplotlib>=3.1.3->sweetviz) (0.11.0)\n",
      "Requirement already satisfied: fonttools>=4.22.0 in c:\\users\\madhan\\anaconda3\\lib\\site-packages (from matplotlib>=3.1.3->sweetviz) (4.51.0)\n",
      "Requirement already satisfied: kiwisolver>=1.3.1 in c:\\users\\madhan\\anaconda3\\lib\\site-packages (from matplotlib>=3.1.3->sweetviz) (1.4.4)\n",
      "Requirement already satisfied: packaging>=20.0 in c:\\users\\madhan\\anaconda3\\lib\\site-packages (from matplotlib>=3.1.3->sweetviz) (24.1)\n",
      "Requirement already satisfied: pillow>=8 in c:\\users\\madhan\\anaconda3\\lib\\site-packages (from matplotlib>=3.1.3->sweetviz) (10.4.0)\n",
      "Requirement already satisfied: pyparsing>=2.3.1 in c:\\users\\madhan\\anaconda3\\lib\\site-packages (from matplotlib>=3.1.3->sweetviz) (3.1.2)\n",
      "Requirement already satisfied: python-dateutil>=2.7 in c:\\users\\madhan\\anaconda3\\lib\\site-packages (from matplotlib>=3.1.3->sweetviz) (2.9.0.post0)\n",
      "Requirement already satisfied: pytz>=2020.1 in c:\\users\\madhan\\anaconda3\\lib\\site-packages (from pandas!=1.0.0,!=1.0.1,!=1.0.2,>=0.25.3->sweetviz) (2024.1)\n",
      "Requirement already satisfied: tzdata>=2022.7 in c:\\users\\madhan\\anaconda3\\lib\\site-packages (from pandas!=1.0.0,!=1.0.1,!=1.0.2,>=0.25.3->sweetviz) (2023.3)\n",
      "Requirement already satisfied: colorama in c:\\users\\madhan\\anaconda3\\lib\\site-packages (from tqdm>=4.43.0->sweetviz) (0.4.6)\n",
      "Requirement already satisfied: six>=1.5 in c:\\users\\madhan\\anaconda3\\lib\\site-packages (from python-dateutil>=2.7->matplotlib>=3.1.3->sweetviz) (1.16.0)\n",
      "Note: you may need to restart the kernel to use updated packages.\n"
     ]
    }
   ],
   "source": [
    "pip install sweetviz"
   ]
  },
  {
   "cell_type": "code",
   "execution_count": 12,
   "id": "e349f859-82bd-4cc0-a5d1-0d53da4bb4d5",
   "metadata": {},
   "outputs": [
    {
     "name": "stdout",
     "output_type": "stream",
     "text": [
      "✅ Data Profiling Summary saved as CSV files:\n",
      "- Numeric Summary: numeric_summary.csv\n",
      "- Missing Values Summary: missing_values.csv\n",
      "- Categorical Summary: categorical_summary.csv\n"
     ]
    },
    {
     "data": {
      "application/vnd.jupyter.widget-view+json": {
       "model_id": "0e911d66bffe4e7aa8488dabe5c7b6ee",
       "version_major": 2,
       "version_minor": 0
      },
      "text/plain": [
       "                                             |          | [  0%]   00:00 -> (? left)"
      ]
     },
     "metadata": {},
     "output_type": "display_data"
    },
    {
     "name": "stdout",
     "output_type": "stream",
     "text": [
      "Report sweetviz_report.html was generated! NOTEBOOK/COLAB USERS: the web browser MAY not pop up, regardless, the report IS saved in your notebook/colab files.\n",
      "✅ SweetViz report saved as: sweetviz_report.html\n"
     ]
    }
   ],
   "source": [
    "import pandas as pd\n",
    "import sweetviz as sv\n",
    "\n",
    "file_path = \"Games.csv\"  \n",
    "df = pd.read_csv(file_path)\n",
    "\n",
    "csv_numeric_summary_path = \"numeric_summary.csv\"\n",
    "csv_missing_values_path = \"missing_values.csv\"\n",
    "csv_categorical_summary_path = \"categorical_summary.csv\"\n",
    "\n",
    "df.describe().to_csv(csv_numeric_summary_path)\n",
    "\n",
    "df.isnull().mean().mul(100).to_frame(name=\"Missing Values (%)\").to_csv(csv_missing_values_path)\n",
    "\n",
    "categorical_summary = {\n",
    "    col: {\n",
    "        \"Unique Values\": df[col].nunique(),\n",
    "        \"Top 3 Values\": df[col].value_counts().head(3).to_dict()\n",
    "    } for col in df.select_dtypes(include=[\"object\"]).columns\n",
    "}\n",
    "\n",
    "pd.DataFrame.from_dict(categorical_summary, orient=\"index\").to_csv(csv_categorical_summary_path)\n",
    "\n",
    "print(f\"✅ Data Profiling Summary saved as CSV files:\")\n",
    "print(f\"- Numeric Summary: {csv_numeric_summary_path}\")\n",
    "print(f\"- Missing Values Summary: {csv_missing_values_path}\")\n",
    "print(f\"- Categorical Summary: {csv_categorical_summary_path}\")\n",
    "\n",
    "sweetviz_report_path = \"sweetviz_report.html\"\n",
    "\n",
    "report = sv.analyze(df)\n",
    "\n",
    "\n",
    "report.show_html(sweetviz_report_path, open_browser=True)\n",
    "\n",
    "print(f\"✅ SweetViz report saved as: {sweetviz_report_path}\")\n"
   ]
  },
  {
   "cell_type": "code",
   "execution_count": null,
   "id": "5355e94e-b78f-40fb-87cd-6efb13ed554f",
   "metadata": {},
   "outputs": [],
   "source": []
  }
 ],
 "metadata": {
  "kernelspec": {
   "display_name": "Python 3 (ipykernel)",
   "language": "python",
   "name": "python3"
  },
  "language_info": {
   "codemirror_mode": {
    "name": "ipython",
    "version": 3
   },
   "file_extension": ".py",
   "mimetype": "text/x-python",
   "name": "python",
   "nbconvert_exporter": "python",
   "pygments_lexer": "ipython3",
   "version": "3.12.3"
  }
 },
 "nbformat": 4,
 "nbformat_minor": 5
}
