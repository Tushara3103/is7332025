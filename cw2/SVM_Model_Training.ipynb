{
 "cells": [
  {
   "cell_type": "markdown",
   "id": "4c521f22",
   "metadata": {},
   "source": [
    "# Support Vector Machine (SVM) Model Training"
   ]
  },
  {
   "cell_type": "code",
   "execution_count": null,
   "id": "9db36128",
   "metadata": {},
   "outputs": [],
   "source": [
    "\n",
    "import pandas as pd\n",
    "import numpy as np\n",
    "import matplotlib.pyplot as plt\n",
    "import seaborn as sns\n",
    "from sklearn.svm import SVC\n",
    "from sklearn.model_selection import GridSearchCV, cross_val_score\n",
    "\n",
    "# Load the dataset\n",
    "file_path = \"student_data.csv\"  # Update this path if needed\n",
    "df = pd.read_csv(file_path)\n",
    "\n",
    "# Prepare data for SVM model\n",
    "X = df[[\"Hours_Studied\", \"Review_Session\"]]\n",
    "y = df[\"Results\"]\n"
   ]
  },
  {
   "cell_type": "markdown",
   "id": "59edbe84",
   "metadata": {},
   "source": [
    "## Fit SVM with Linear Kernel"
   ]
  },
  {
   "cell_type": "code",
   "execution_count": null,
   "id": "084aa909",
   "metadata": {},
   "outputs": [],
   "source": [
    "\n",
    "# Train SVM model with linear kernel\n",
    "svm_linear = SVC(kernel=\"linear\")\n",
    "svm_linear.fit(X, y)\n",
    "\n",
    "# Compute cross-validation accuracy\n",
    "linear_cv_scores = cross_val_score(svm_linear, X, y, cv=5)\n",
    "linear_accuracy = np.mean(linear_cv_scores)\n",
    "\n",
    "print(\"Linear SVM Accuracy (5-fold CV):\", linear_accuracy)\n"
   ]
  },
  {
   "cell_type": "markdown",
   "id": "d40be9e6",
   "metadata": {},
   "source": [
    "## Fit SVM with RBF Kernel and Perform Grid Search for Best Gamma"
   ]
  },
  {
   "cell_type": "code",
   "execution_count": null,
   "id": "8c26d3a9",
   "metadata": {},
   "outputs": [],
   "source": [
    "\n",
    "# Define parameter grid for gamma search\n",
    "param_grid = {'gamma': np.logspace(-3, 3, 7), 'C': [0.1, 1, 10, 100]}\n",
    "\n",
    "# Perform Grid Search with 5-fold Cross-Validation\n",
    "svm_rbf = GridSearchCV(SVC(kernel=\"rbf\"), param_grid, cv=5, scoring='accuracy', n_jobs=-1)\n",
    "svm_rbf.fit(X, y)\n",
    "\n",
    "# Best parameters and accuracy\n",
    "print(\"Best Parameters for RBF SVM:\", svm_rbf.best_params_)\n",
    "print(\"Best RBF SVM Accuracy:\", svm_rbf.best_score_)\n"
   ]
  },
  {
   "cell_type": "markdown",
   "id": "14d3ccd9",
   "metadata": {},
   "source": [
    "## Decision Boundary Visualization (Optional)"
   ]
  },
  {
   "cell_type": "code",
   "execution_count": null,
   "id": "2cb54864",
   "metadata": {},
   "outputs": [],
   "source": [
    "\n",
    "# Function to plot decision boundary\n",
    "def plot_decision_boundary(model, X, y, title):\n",
    "    h = 0.02\n",
    "    x_min, x_max = X.iloc[:, 0].min() - 1, X.iloc[:, 0].max() + 1\n",
    "    y_min, y_max = X.iloc[:, 1].min() - 1, X.iloc[:, 1].max() + 1\n",
    "    xx, yy = np.meshgrid(np.arange(x_min, x_max, h), np.arange(y_min, y_max, h))\n",
    "    \n",
    "    Z = model.predict(np.c_[xx.ravel(), yy.ravel()])\n",
    "    Z = Z.reshape(xx.shape)\n",
    "    \n",
    "    plt.contourf(xx, yy, Z, alpha=0.3)\n",
    "    sns.scatterplot(x=X.iloc[:, 0], y=X.iloc[:, 1], hue=y, edgecolor=\"k\")\n",
    "    plt.xlabel(\"Hours Studied\")\n",
    "    plt.ylabel(\"Review Session\")\n",
    "    plt.title(title)\n",
    "    plt.show()\n",
    "\n",
    "# Plot decision boundaries for both models\n",
    "plot_decision_boundary(svm_linear, X, y, \"Decision Boundary for Linear SVM\")\n",
    "plot_decision_boundary(svm_rbf.best_estimator_, X, y, \"Decision Boundary for RBF SVM\")\n"
   ]
  }
 ],
 "metadata": {},
 "nbformat": 4,
 "nbformat_minor": 5
}
