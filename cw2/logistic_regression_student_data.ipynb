{
 "cells": [
  {
   "cell_type": "markdown",
   "id": "9525b058",
   "metadata": {},
   "source": [
    "# Logistic Regression Model for Student Data"
   ]
  },
  {
   "cell_type": "code",
   "execution_count": null,
   "id": "3bf6290c",
   "metadata": {},
   "outputs": [],
   "source": [
    "\n",
    "import pandas as pd\n",
    "import matplotlib.pyplot as plt\n",
    "import seaborn as sns\n",
    "from sklearn.linear_model import LogisticRegression\n",
    "from sklearn.metrics import accuracy_score, roc_auc_score, roc_curve\n",
    "\n",
    "# Load the dataset\n",
    "file_path = \"student_data.csv\"  # Update this path if needed\n",
    "df = pd.read_csv(file_path)\n",
    "\n",
    "# Display first few rows\n",
    "df.head()\n"
   ]
  },
  {
   "cell_type": "markdown",
   "id": "2a2374c4",
   "metadata": {},
   "source": [
    "## Data Visualization"
   ]
  },
  {
   "cell_type": "code",
   "execution_count": null,
   "id": "9b822d78",
   "metadata": {},
   "outputs": [],
   "source": [
    "\n",
    "# Visualizing the dataset\n",
    "plt.figure(figsize=(10, 6))\n",
    "sns.scatterplot(x=df[\"Hours_Studied\"], y=df[\"Results\"], hue=df[\"Review_Session\"], palette=\"coolwarm\", s=100)\n",
    "plt.xlabel(\"Hours Studied\")\n",
    "plt.ylabel(\"Results (Pass/Fail)\")\n",
    "plt.title(\"Student Results Based on Study Hours and Review Sessions\")\n",
    "plt.legend(title=\"Review Session\", labels=[\"No\", \"Yes\"])\n",
    "plt.show()\n"
   ]
  },
  {
   "cell_type": "markdown",
   "id": "9743390d",
   "metadata": {},
   "source": [
    "## Logistic Regression Model Training"
   ]
  },
  {
   "cell_type": "code",
   "execution_count": null,
   "id": "ec1694e7",
   "metadata": {},
   "outputs": [],
   "source": [
    "\n",
    "# Prepare data for model\n",
    "X = df[[\"Hours_Studied\", \"Review_Session\"]]\n",
    "y = df[\"Results\"]\n",
    "\n",
    "# Fit logistic regression model\n",
    "model = LogisticRegression()\n",
    "model.fit(X, y)\n",
    "\n",
    "# Predict probabilities and classes\n",
    "y_pred = model.predict(X)\n",
    "y_prob = model.predict_proba(X)[:, 1]\n",
    "\n",
    "# Compute performance metrics\n",
    "accuracy = accuracy_score(y, y_pred)\n",
    "auc = roc_auc_score(y, y_prob)\n",
    "\n",
    "# Output model coefficients and performance metrics\n",
    "print(\"Model Coefficients:\", model.coef_)\n",
    "print(\"Intercept:\", model.intercept_)\n",
    "print(\"Accuracy:\", accuracy)\n",
    "print(\"AUC:\", auc)\n"
   ]
  },
  {
   "cell_type": "markdown",
   "id": "7bb69c44",
   "metadata": {},
   "source": [
    "## ROC Curve"
   ]
  },
  {
   "cell_type": "code",
   "execution_count": null,
   "id": "c7f36d74",
   "metadata": {},
   "outputs": [],
   "source": [
    "\n",
    "# Plot ROC Curve\n",
    "fpr, tpr, _ = roc_curve(y, y_prob)\n",
    "\n",
    "plt.figure(figsize=(8, 6))\n",
    "plt.plot(fpr, tpr, color='blue', label=f'ROC Curve (AUC = {auc:.2f})')\n",
    "plt.plot([0, 1], [0, 1], color='gray', linestyle='--')  # Diagonal line\n",
    "plt.xlabel(\"False Positive Rate\")\n",
    "plt.ylabel(\"True Positive Rate\")\n",
    "plt.title(\"ROC Curve for Logistic Regression Model\")\n",
    "plt.legend()\n",
    "plt.show()\n"
   ]
  }
 ],
 "metadata": {},
 "nbformat": 4,
 "nbformat_minor": 5
}
